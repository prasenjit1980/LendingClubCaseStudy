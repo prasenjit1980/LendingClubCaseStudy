{
 "cells": [
  {
   "cell_type": "code",
   "execution_count": 1,
   "id": "a70dd6ba",
   "metadata": {},
   "outputs": [],
   "source": [
    "## import libraries\n",
    "import numpy as np\n",
    "import pandas as pd\n",
    "import seaborn as sns\n",
    "import warnings\n",
    "warnings.filterwarnings('ignore')"
   ]
  },
  {
   "cell_type": "code",
   "execution_count": 2,
   "id": "af427c2b",
   "metadata": {},
   "outputs": [],
   "source": [
    "loan_data = pd.read_csv('loan.csv', low_memory=False)"
   ]
  },
  {
   "cell_type": "markdown",
   "id": "25e8d8ce",
   "metadata": {},
   "source": [
    "### Drop Columns containing only NULL values"
   ]
  },
  {
   "cell_type": "code",
   "execution_count": 3,
   "id": "2b55b428",
   "metadata": {},
   "outputs": [],
   "source": [
    "loan_data.dropna(axis = 1, how = 'all', inplace = True)"
   ]
  },
  {
   "cell_type": "markdown",
   "id": "f8b1d71b",
   "metadata": {},
   "source": [
    "### Remove Columns containing > 30% NULL values"
   ]
  },
  {
   "cell_type": "code",
   "execution_count": 4,
   "id": "1a2aeb33",
   "metadata": {
    "scrolled": true
   },
   "outputs": [],
   "source": [
    "loan_data = loan_data.loc[:,loan_data.isnull().sum()/39717*100 < 30]"
   ]
  },
  {
   "cell_type": "markdown",
   "id": "a496ba6b",
   "metadata": {},
   "source": [
    "### Drop Columns containing a single value."
   ]
  },
  {
   "cell_type": "code",
   "execution_count": 5,
   "id": "6e4b1c1d",
   "metadata": {},
   "outputs": [],
   "source": [
    "loan_data.drop(loan_data.columns[loan_data.nunique() <= 1],axis=1, inplace=True)"
   ]
  },
  {
   "cell_type": "code",
   "execution_count": 6,
   "id": "256a94bf",
   "metadata": {},
   "outputs": [
    {
     "data": {
      "text/plain": [
       "(39717, 44)"
      ]
     },
     "execution_count": 6,
     "metadata": {},
     "output_type": "execute_result"
    }
   ],
   "source": [
    "loan_data.shape"
   ]
  },
  {
   "cell_type": "markdown",
   "id": "03f22835",
   "metadata": {},
   "source": [
    "### Add a new Column Defaulter"
   ]
  },
  {
   "cell_type": "code",
   "execution_count": 7,
   "id": "cb788efb",
   "metadata": {},
   "outputs": [],
   "source": [
    "loan_data['Defaulter']=np.where(loan_data['loan_status']=='Charged Off',1,0)"
   ]
  },
  {
   "cell_type": "code",
   "execution_count": 8,
   "id": "34f6f3ca",
   "metadata": {},
   "outputs": [
    {
     "data": {
      "text/html": [
       "<div>\n",
       "<style scoped>\n",
       "    .dataframe tbody tr th:only-of-type {\n",
       "        vertical-align: middle;\n",
       "    }\n",
       "\n",
       "    .dataframe tbody tr th {\n",
       "        vertical-align: top;\n",
       "    }\n",
       "\n",
       "    .dataframe thead th {\n",
       "        text-align: right;\n",
       "    }\n",
       "</style>\n",
       "<table border=\"1\" class=\"dataframe\">\n",
       "  <thead>\n",
       "    <tr style=\"text-align: right;\">\n",
       "      <th></th>\n",
       "      <th>id</th>\n",
       "      <th>member_id</th>\n",
       "      <th>loan_amnt</th>\n",
       "      <th>funded_amnt</th>\n",
       "      <th>funded_amnt_inv</th>\n",
       "      <th>term</th>\n",
       "      <th>int_rate</th>\n",
       "      <th>installment</th>\n",
       "      <th>grade</th>\n",
       "      <th>sub_grade</th>\n",
       "      <th>...</th>\n",
       "      <th>total_rec_prncp</th>\n",
       "      <th>total_rec_int</th>\n",
       "      <th>total_rec_late_fee</th>\n",
       "      <th>recoveries</th>\n",
       "      <th>collection_recovery_fee</th>\n",
       "      <th>last_pymnt_d</th>\n",
       "      <th>last_pymnt_amnt</th>\n",
       "      <th>last_credit_pull_d</th>\n",
       "      <th>pub_rec_bankruptcies</th>\n",
       "      <th>Defaulter</th>\n",
       "    </tr>\n",
       "  </thead>\n",
       "  <tbody>\n",
       "    <tr>\n",
       "      <th>0</th>\n",
       "      <td>1077501</td>\n",
       "      <td>1296599</td>\n",
       "      <td>5000</td>\n",
       "      <td>5000</td>\n",
       "      <td>4975.0</td>\n",
       "      <td>36 months</td>\n",
       "      <td>10.65%</td>\n",
       "      <td>162.87</td>\n",
       "      <td>B</td>\n",
       "      <td>B2</td>\n",
       "      <td>...</td>\n",
       "      <td>5000.00</td>\n",
       "      <td>863.16</td>\n",
       "      <td>0.00</td>\n",
       "      <td>0.00</td>\n",
       "      <td>0.00</td>\n",
       "      <td>Jan-15</td>\n",
       "      <td>171.62</td>\n",
       "      <td>May-16</td>\n",
       "      <td>0.0</td>\n",
       "      <td>0</td>\n",
       "    </tr>\n",
       "    <tr>\n",
       "      <th>1</th>\n",
       "      <td>1077430</td>\n",
       "      <td>1314167</td>\n",
       "      <td>2500</td>\n",
       "      <td>2500</td>\n",
       "      <td>2500.0</td>\n",
       "      <td>60 months</td>\n",
       "      <td>15.27%</td>\n",
       "      <td>59.83</td>\n",
       "      <td>C</td>\n",
       "      <td>C4</td>\n",
       "      <td>...</td>\n",
       "      <td>456.46</td>\n",
       "      <td>435.17</td>\n",
       "      <td>0.00</td>\n",
       "      <td>117.08</td>\n",
       "      <td>1.11</td>\n",
       "      <td>Apr-13</td>\n",
       "      <td>119.66</td>\n",
       "      <td>Sep-13</td>\n",
       "      <td>0.0</td>\n",
       "      <td>1</td>\n",
       "    </tr>\n",
       "    <tr>\n",
       "      <th>2</th>\n",
       "      <td>1077175</td>\n",
       "      <td>1313524</td>\n",
       "      <td>2400</td>\n",
       "      <td>2400</td>\n",
       "      <td>2400.0</td>\n",
       "      <td>36 months</td>\n",
       "      <td>15.96%</td>\n",
       "      <td>84.33</td>\n",
       "      <td>C</td>\n",
       "      <td>C5</td>\n",
       "      <td>...</td>\n",
       "      <td>2400.00</td>\n",
       "      <td>605.67</td>\n",
       "      <td>0.00</td>\n",
       "      <td>0.00</td>\n",
       "      <td>0.00</td>\n",
       "      <td>Jun-14</td>\n",
       "      <td>649.91</td>\n",
       "      <td>May-16</td>\n",
       "      <td>0.0</td>\n",
       "      <td>0</td>\n",
       "    </tr>\n",
       "    <tr>\n",
       "      <th>3</th>\n",
       "      <td>1076863</td>\n",
       "      <td>1277178</td>\n",
       "      <td>10000</td>\n",
       "      <td>10000</td>\n",
       "      <td>10000.0</td>\n",
       "      <td>36 months</td>\n",
       "      <td>13.49%</td>\n",
       "      <td>339.31</td>\n",
       "      <td>C</td>\n",
       "      <td>C1</td>\n",
       "      <td>...</td>\n",
       "      <td>10000.00</td>\n",
       "      <td>2214.92</td>\n",
       "      <td>16.97</td>\n",
       "      <td>0.00</td>\n",
       "      <td>0.00</td>\n",
       "      <td>Jan-15</td>\n",
       "      <td>357.48</td>\n",
       "      <td>Apr-16</td>\n",
       "      <td>0.0</td>\n",
       "      <td>0</td>\n",
       "    </tr>\n",
       "    <tr>\n",
       "      <th>4</th>\n",
       "      <td>1075358</td>\n",
       "      <td>1311748</td>\n",
       "      <td>3000</td>\n",
       "      <td>3000</td>\n",
       "      <td>3000.0</td>\n",
       "      <td>60 months</td>\n",
       "      <td>12.69%</td>\n",
       "      <td>67.79</td>\n",
       "      <td>B</td>\n",
       "      <td>B5</td>\n",
       "      <td>...</td>\n",
       "      <td>2475.94</td>\n",
       "      <td>1037.39</td>\n",
       "      <td>0.00</td>\n",
       "      <td>0.00</td>\n",
       "      <td>0.00</td>\n",
       "      <td>May-16</td>\n",
       "      <td>67.79</td>\n",
       "      <td>May-16</td>\n",
       "      <td>0.0</td>\n",
       "      <td>0</td>\n",
       "    </tr>\n",
       "  </tbody>\n",
       "</table>\n",
       "<p>5 rows × 45 columns</p>\n",
       "</div>"
      ],
      "text/plain": [
       "        id  member_id  loan_amnt  funded_amnt  funded_amnt_inv        term  \\\n",
       "0  1077501    1296599       5000         5000           4975.0   36 months   \n",
       "1  1077430    1314167       2500         2500           2500.0   60 months   \n",
       "2  1077175    1313524       2400         2400           2400.0   36 months   \n",
       "3  1076863    1277178      10000        10000          10000.0   36 months   \n",
       "4  1075358    1311748       3000         3000           3000.0   60 months   \n",
       "\n",
       "  int_rate  installment grade sub_grade  ... total_rec_prncp total_rec_int  \\\n",
       "0   10.65%       162.87     B        B2  ...         5000.00        863.16   \n",
       "1   15.27%        59.83     C        C4  ...          456.46        435.17   \n",
       "2   15.96%        84.33     C        C5  ...         2400.00        605.67   \n",
       "3   13.49%       339.31     C        C1  ...        10000.00       2214.92   \n",
       "4   12.69%        67.79     B        B5  ...         2475.94       1037.39   \n",
       "\n",
       "  total_rec_late_fee  recoveries collection_recovery_fee last_pymnt_d  \\\n",
       "0               0.00        0.00                    0.00       Jan-15   \n",
       "1               0.00      117.08                    1.11       Apr-13   \n",
       "2               0.00        0.00                    0.00       Jun-14   \n",
       "3              16.97        0.00                    0.00       Jan-15   \n",
       "4               0.00        0.00                    0.00       May-16   \n",
       "\n",
       "  last_pymnt_amnt last_credit_pull_d pub_rec_bankruptcies Defaulter  \n",
       "0          171.62             May-16                  0.0         0  \n",
       "1          119.66             Sep-13                  0.0         1  \n",
       "2          649.91             May-16                  0.0         0  \n",
       "3          357.48             Apr-16                  0.0         0  \n",
       "4           67.79             May-16                  0.0         0  \n",
       "\n",
       "[5 rows x 45 columns]"
      ]
     },
     "execution_count": 8,
     "metadata": {},
     "output_type": "execute_result"
    }
   ],
   "source": [
    "loan_data.head()"
   ]
  },
  {
   "cell_type": "code",
   "execution_count": 9,
   "id": "de029c01",
   "metadata": {},
   "outputs": [
    {
     "data": {
      "text/plain": [
       "pandas.core.series.Series"
      ]
     },
     "execution_count": 9,
     "metadata": {},
     "output_type": "execute_result"
    }
   ],
   "source": [
    "type(loan_data['int_rate'])"
   ]
  },
  {
   "cell_type": "code",
   "execution_count": 10,
   "id": "97d76579",
   "metadata": {},
   "outputs": [],
   "source": [
    "loan_data['int_rate'] = pd.to_numeric(loan_data['int_rate'].map(lambda x: x[:-1]))"
   ]
  },
  {
   "cell_type": "markdown",
   "id": "82af93ff",
   "metadata": {},
   "source": [
    "### Checking if interest rate is driving factor for defining defaulter"
   ]
  },
  {
   "cell_type": "code",
   "execution_count": 16,
   "id": "77343870",
   "metadata": {},
   "outputs": [
    {
     "data": {
      "text/plain": [
       "<Axes: xlabel='Defaulter'>"
      ]
     },
     "execution_count": 16,
     "metadata": {},
     "output_type": "execute_result"
    },
    {
     "data": {
      "image/png": "[encoded data removed]",
      "text/plain": [
       "<Figure size 640x480 with 1 Axes>"
      ]
     },
     "metadata": {},
     "output_type": "display_data"
    }
   ],
   "source": [
    "loan_data.groupby(['Defaulter'])['int_rate'].mean().plot(kind = 'bar')\n"
   ]
  },
  {
   "cell_type": "markdown",
   "id": "04f44961",
   "metadata": {},
   "source": [
    "### Checking if grade is driving factor for defining defaulter"
   ]
  },
  {
   "cell_type": "code",
   "execution_count": 12,
   "id": "08abd082",
   "metadata": {},
   "outputs": [],
   "source": [
    "grade_loan_data = loan_data.groupby(by='grade',as_index=False).agg({'id':'count','Defaulter':'sum'}).rename(columns = {'id':'cnt_cust','Defaulter':'cnt_defaulter'})"
   ]
  },
  {
   "cell_type": "code",
   "execution_count": 13,
   "id": "636b2a74",
   "metadata": {},
   "outputs": [],
   "source": [
    "grade_loan_data['pct_defaulter'] = np.round(grade_loan_data['cnt_defaulter']/grade_loan_data['cnt_cust']*100,2)"
   ]
  },
  {
   "cell_type": "code",
   "execution_count": 28,
   "id": "b460a1d7",
   "metadata": {},
   "outputs": [
    {
     "data": {
      "text/plain": [
       "<Axes: xlabel='grade'>"
      ]
     },
     "execution_count": 28,
     "metadata": {},
     "output_type": "execute_result"
    },
    {
     "data": {
      "image/png": "[encoded data removed]",
      "text/plain": [
       "<Figure size 640x480 with 1 Axes>"
      ]
     },
     "metadata": {},
     "output_type": "display_data"
    }
   ],
   "source": [
    "grade_loan_data.groupby(['grade'])['pct_defaulter'].mean().plot(kind = 'bar')"
   ]
  },
  {
   "cell_type": "code",
   "execution_count": 25,
   "id": "2cb5d04d",
   "metadata": {},
   "outputs": [
    {
     "data": {
      "text/html": [
       "<div>\n",
       "<style scoped>\n",
       "    .dataframe tbody tr th:only-of-type {\n",
       "        vertical-align: middle;\n",
       "    }\n",
       "\n",
       "    .dataframe tbody tr th {\n",
       "        vertical-align: top;\n",
       "    }\n",
       "\n",
       "    .dataframe thead th {\n",
       "        text-align: right;\n",
       "    }\n",
       "</style>\n",
       "<table border=\"1\" class=\"dataframe\">\n",
       "  <thead>\n",
       "    <tr style=\"text-align: right;\">\n",
       "      <th></th>\n",
       "      <th>grade</th>\n",
       "      <th>cnt_cust</th>\n",
       "      <th>cnt_defaulter</th>\n",
       "      <th>pct_defaulter</th>\n",
       "    </tr>\n",
       "  </thead>\n",
       "  <tbody>\n",
       "    <tr>\n",
       "      <th>0</th>\n",
       "      <td>A</td>\n",
       "      <td>10085</td>\n",
       "      <td>602</td>\n",
       "      <td>5.97</td>\n",
       "    </tr>\n",
       "    <tr>\n",
       "      <th>1</th>\n",
       "      <td>B</td>\n",
       "      <td>12020</td>\n",
       "      <td>1425</td>\n",
       "      <td>11.86</td>\n",
       "    </tr>\n",
       "    <tr>\n",
       "      <th>2</th>\n",
       "      <td>C</td>\n",
       "      <td>8098</td>\n",
       "      <td>1347</td>\n",
       "      <td>16.63</td>\n",
       "    </tr>\n",
       "    <tr>\n",
       "      <th>3</th>\n",
       "      <td>D</td>\n",
       "      <td>5307</td>\n",
       "      <td>1118</td>\n",
       "      <td>21.07</td>\n",
       "    </tr>\n",
       "    <tr>\n",
       "      <th>4</th>\n",
       "      <td>E</td>\n",
       "      <td>2842</td>\n",
       "      <td>715</td>\n",
       "      <td>25.16</td>\n",
       "    </tr>\n",
       "    <tr>\n",
       "      <th>5</th>\n",
       "      <td>F</td>\n",
       "      <td>1049</td>\n",
       "      <td>319</td>\n",
       "      <td>30.41</td>\n",
       "    </tr>\n",
       "    <tr>\n",
       "      <th>6</th>\n",
       "      <td>G</td>\n",
       "      <td>316</td>\n",
       "      <td>101</td>\n",
       "      <td>31.96</td>\n",
       "    </tr>\n",
       "  </tbody>\n",
       "</table>\n",
       "</div>"
      ],
      "text/plain": [
       "  grade  cnt_cust  cnt_defaulter  pct_defaulter\n",
       "0     A     10085            602           5.97\n",
       "1     B     12020           1425          11.86\n",
       "2     C      8098           1347          16.63\n",
       "3     D      5307           1118          21.07\n",
       "4     E      2842            715          25.16\n",
       "5     F      1049            319          30.41\n",
       "6     G       316            101          31.96"
      ]
     },
     "execution_count": 25,
     "metadata": {},
     "output_type": "execute_result"
    }
   ],
   "source": [
    "grade_loan_data"
   ]
  },
  {
   "cell_type": "markdown",
   "id": "50b48d88",
   "metadata": {},
   "source": [
    "### Checking if verification_status is driving factor for defining defaulter"
   ]
  },
  {
   "cell_type": "code",
   "execution_count": 74,
   "id": "f4351fe8",
   "metadata": {},
   "outputs": [],
   "source": [
    "verification_loan_data=loan_data.groupby(by=\"verification_status\", as_index=False).agg({'id':'count','Defaulter':'sum'}).rename(columns = {'id':'cnt_cust','Defaulter':'cnt_defaulter'})"
   ]
  },
  {
   "cell_type": "code",
   "execution_count": 75,
   "id": "34819bd2",
   "metadata": {},
   "outputs": [],
   "source": [
    "verification_loan_data['pct_defaulter']=round(verification_loan_data['cnt_defaulter']/verification_loan_data['cnt_cust']*100,2)"
   ]
  },
  {
   "cell_type": "code",
   "execution_count": 71,
   "id": "8edfa54f",
   "metadata": {},
   "outputs": [
    {
     "data": {
      "text/plain": [
       "<Axes: xlabel='verification_status'>"
      ]
     },
     "execution_count": 71,
     "metadata": {},
     "output_type": "execute_result"
    },
    {
     "data": {
      "image/png": "[encoded data removed]",
      "text/plain": [
       "<Figure size 640x480 with 1 Axes>"
      ]
     },
     "metadata": {},
     "output_type": "display_data"
    }
   ],
   "source": [
    "verification_loan_data.groupby(['verification_status'])['pct_defaulter'].mean().plot(kind = 'bar')\n"
   ]
  },
  {
   "cell_type": "markdown",
   "id": "c631676a",
   "metadata": {},
   "source": [
    "### Checking if term is driving factor for defining defaulter"
   ]
  },
  {
   "cell_type": "code",
   "execution_count": 76,
   "id": "0949bac7",
   "metadata": {},
   "outputs": [],
   "source": [
    "term_loan_data=loan_data.groupby(by=\"term\", as_index=False).agg({'id':'count','Defaulter':'sum'}).rename(columns = {'id':'cnt_cust','Defaulter':'cnt_defaulter'})"
   ]
  },
  {
   "cell_type": "code",
   "execution_count": 77,
   "id": "c61b1415",
   "metadata": {},
   "outputs": [],
   "source": [
    "term_loan_data['pct_defaulter']=round(term_loan_data['cnt_defaulter'] / term_loan_data['cnt_cust']*100,2)"
   ]
  },
  {
   "cell_type": "code",
   "execution_count": 36,
   "id": "a297a6be",
   "metadata": {},
   "outputs": [
    {
     "data": {
      "text/plain": [
       "<Axes: xlabel='term'>"
      ]
     },
     "execution_count": 36,
     "metadata": {},
     "output_type": "execute_result"
    },
    {
     "data": {
      "image/png": "[encoded data removed]",
      "text/plain": [
       "<Figure size 640x480 with 1 Axes>"
      ]
     },
     "metadata": {},
     "output_type": "display_data"
    }
   ],
   "source": [
    "term_loan_data.groupby(['term'])['pct_defaulter'].mean().plot(kind='bar')"
   ]
  },
  {
   "cell_type": "markdown",
   "id": "50a23926",
   "metadata": {},
   "source": [
    "### Employment Tenure impact on Default"
   ]
  },
  {
   "cell_type": "code",
   "execution_count": 78,
   "id": "ed099769",
   "metadata": {},
   "outputs": [],
   "source": [
    "emp_tenure_data=loan_data.groupby('emp_length', as_index=False).agg({'id':'count','Defaulter':'sum'}).rename(columns={'id':'cnt_cust','Defaulter':'cnt_defaulter'})"
   ]
  },
  {
   "cell_type": "code",
   "execution_count": 79,
   "id": "7cbf8614",
   "metadata": {},
   "outputs": [],
   "source": [
    "emp_tenure_data['pct_default']=round(emp_tenure_data['cnt_defaulter']/emp_tenure_data['cnt_cust']*100,2)"
   ]
  },
  {
   "cell_type": "code",
   "execution_count": 51,
   "id": "92e102f7",
   "metadata": {},
   "outputs": [
    {
     "data": {
      "text/plain": [
       "<Axes: xlabel='emp_length'>"
      ]
     },
     "execution_count": 51,
     "metadata": {},
     "output_type": "execute_result"
    },
    {
     "data": {
      "image/png": "[encoded data removed]",
      "text/plain": [
       "<Figure size 640x480 with 1 Axes>"
      ]
     },
     "metadata": {},
     "output_type": "display_data"
    }
   ],
   "source": [
    "emp_tenure_data.groupby('emp_length')['pct_default'].mean().plot(kind='bar')"
   ]
  },
  {
   "cell_type": "markdown",
   "id": "47234000",
   "metadata": {},
   "source": [
    "### Home Ownership on Default"
   ]
  },
  {
   "cell_type": "code",
   "execution_count": 65,
   "id": "f1f18ea7",
   "metadata": {},
   "outputs": [],
   "source": [
    "home_status=loan_data.groupby('home_ownership', as_index=False).agg({'id':'count','Defaulter':'sum'}).rename(columns={'id':'cnt_cust','Defaulter':'cnt_default'})"
   ]
  },
  {
   "cell_type": "code",
   "execution_count": 69,
   "id": "29f8843a",
   "metadata": {},
   "outputs": [],
   "source": [
    "home_status['pct_defaults']=round(home_status['cnt_default']/home_status['cnt_cust']*100,2)"
   ]
  },
  {
   "cell_type": "code",
   "execution_count": 73,
   "id": "ea59ab57",
   "metadata": {},
   "outputs": [
    {
     "data": {
      "text/plain": [
       "<Axes: xlabel='home_ownership'>"
      ]
     },
     "execution_count": 73,
     "metadata": {},
     "output_type": "execute_result"
    },
    {
     "data": {
      "image/png": "[encoded data removed]",
      "text/plain": [
       "<Figure size 640x480 with 1 Axes>"
      ]
     },
     "metadata": {},
     "output_type": "display_data"
    }
   ],
   "source": [
    "home_status.groupby('home_ownership')['pct_defaults'].mean().plot(kind='bar')"
   ]
  },
  {
   "cell_type": "markdown",
   "id": "47cc8722",
   "metadata": {},
   "source": [
    "### Purpose on Default\n"
   ]
  },
  {
   "cell_type": "code",
   "execution_count": 80,
   "id": "6c33f630",
   "metadata": {},
   "outputs": [
    {
     "data": {
      "text/plain": [
       "<Axes: xlabel='purpose'>"
      ]
     },
     "execution_count": 80,
     "metadata": {},
     "output_type": "execute_result"
    },
    {
     "data": {
      "image/png": "[encoded data removed]",
      "text/plain": [
       "<Figure size 640x480 with 1 Axes>"
      ]
     },
     "metadata": {},
     "output_type": "display_data"
    }
   ],
   "source": [
    "loan_purpose=loan_data.groupby('purpose', as_index=False).agg({'id':'count', 'Defaulter':'sum'}).rename(columns={'id':'cnt_cust','Defaulter':'cnt_default'})\n",
    "loan_purpose['pct_default']=round(loan_purpose['cnt_default']/loan_purpose['cnt_cust']*100,2)\n",
    "loan_purpose.groupby('purpose')['pct_default'].mean().plot(kind='bar')"
   ]
  },
  {
   "cell_type": "markdown",
   "id": "ff82a729",
   "metadata": {},
   "source": [
    "### Number of Inquries in past 6 months vs Default"
   ]
  },
  {
   "cell_type": "code",
   "execution_count": 114,
   "id": "ef1bfa0f",
   "metadata": {},
   "outputs": [
    {
     "data": {
      "text/plain": [
       "<Axes: xlabel='inq_last_6mths'>"
      ]
     },
     "execution_count": 114,
     "metadata": {},
     "output_type": "execute_result"
    },
    {
     "data": {
      "image/png": "[encoded data removed]",
      "text/plain": [
       "<Figure size 640x480 with 1 Axes>"
      ]
     },
     "metadata": {},
     "output_type": "display_data"
    }
   ],
   "source": [
    "inquiry_data=loan_data.groupby('inq_last_6mths').agg({'id':'count','Defaulter':'sum'}).rename(columns={'id':'cnt_cust','Defaulter':'cnt_default'})\n",
    "inquiry_data['pct_default']=round(inquiry_data['cnt_default']/inquiry_data['cnt_cust']*100,2)\n",
    "inquiry_data.groupby('inq_last_6mths')['pct_default'].mean().plot(kind='bar')"
   ]
  },
  {
   "cell_type": "markdown",
   "id": "cae652c3",
   "metadata": {},
   "source": [
    "### Annual Income vs Default"
   ]
  },
  {
   "cell_type": "code",
   "execution_count": 135,
   "id": "e25b866e",
   "metadata": {},
   "outputs": [],
   "source": [
    "quantile_info = loan_data.annual_inc.quantile([0.5, 0.75,0.90, 0.95, 0.97,0.98, 0.99,1])"
   ]
  },
  {
   "cell_type": "code",
   "execution_count": 108,
   "id": "931ab1a1",
   "metadata": {},
   "outputs": [],
   "source": [
    "loan_data=loan_data[loan_data['annual_inc'] < loan_data.annual_inc.quantile(0.95)]"
   ]
  },
  {
   "cell_type": "code",
   "execution_count": 117,
   "id": "78dd972a",
   "metadata": {},
   "outputs": [
    {
     "data": {
      "text/plain": [
       "<Axes: >"
      ]
     },
     "execution_count": 117,
     "metadata": {},
     "output_type": "execute_result"
    },
    {
     "data": {
      "image/png": "[encoded data removed]",
      "text/plain": [
       "<Figure size 640x480 with 1 Axes>"
      ]
     },
     "metadata": {},
     "output_type": "display_data"
    }
   ],
   "source": [
    "sns.boxplot(loan_data.annual_inc)"
   ]
  },
  {
   "cell_type": "code",
   "execution_count": 122,
   "id": "cecca03f",
   "metadata": {},
   "outputs": [],
   "source": [
    "loan_data['annual_inc_groups'] = pd.cut(loan_data['annual_inc'], bins=5,precision =0,labels =['3k-31k','31k-58k','58k-85k','85k-112k','112k-140k'])"
   ]
  },
  {
   "cell_type": "code",
   "execution_count": 134,
   "id": "88ddb5b9",
   "metadata": {},
   "outputs": [
    {
     "data": {
      "text/plain": [
       "<Axes: xlabel='annual_inc_groups'>"
      ]
     },
     "execution_count": 134,
     "metadata": {},
     "output_type": "execute_result"
    },
    {
     "data": {
      "image/png": "[encoded data removed]",
      "text/plain": [
       "<Figure size 640x480 with 1 Axes>"
      ]
     },
     "metadata": {},
     "output_type": "display_data"
    }
   ],
   "source": [
    "loan_data.groupby('annual_inc_groups')['Defaulter'].count().plot(kind='bar')"
   ]
  },
  {
   "cell_type": "code",
   "execution_count": null,
   "id": "8adf57f4",
   "metadata": {},
   "outputs": [],
   "source": []
  }
 ],
 "metadata": {
  "kernelspec": {
   "display_name": "Python 3 (ipykernel)",
   "language": "python",
   "name": "python3"
  },
  "language_info": {
   "codemirror_mode": {
    "name": "ipython",
    "version": 3
   },
   "file_extension": ".py",
   "mimetype": "text/x-python",
   "name": "python",
   "nbconvert_exporter": "python",
   "pygments_lexer": "ipython3",
   "version": "3.11.5"
  }
 },
 "nbformat": 4,
 "nbformat_minor": 5
}
